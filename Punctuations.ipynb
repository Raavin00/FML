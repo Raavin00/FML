{
  "cells": [
    {
      "cell_type": "markdown",
      "metadata": {
        "id": "view-in-github",
        "colab_type": "text"
      },
      "source": [
        "<a href=\"https://colab.research.google.com/github/Raavin00/FML/blob/main/Punctuations.ipynb\" target=\"_parent\"><img src=\"https://colab.research.google.com/assets/colab-badge.svg\" alt=\"Open In Colab\"/></a>"
      ]
    },
    {
      "cell_type": "code",
      "execution_count": null,
      "metadata": {
        "colab": {
          "base_uri": "https://localhost:8080/"
        },
        "id": "374ScvXGt8Xp",
        "outputId": "31df76f1-c08e-42e4-a8a1-95d8c1918c71"
      },
      "outputs": [
        {
          "output_type": "stream",
          "name": "stdout",
          "text": [
            "['Here', 'we', 'can', 'see', 'that', 'the', 'punctuations', 'were', 'present', 'in', 'the', 'text', 'are', 'removed', 'by', 'using', 'the', 'for', 'loop', 'and', 'only', 'text', 'is', 'remaining', 'without', 'any', 'special', 'character', 'or', 'punctuation']\n"
          ]
        }
      ],
      "source": [
        "text=\"Here we can see that the punctuations were ! present in the text ; are removed by using the for loop .and only text is remaining without any special character or punctuation..\"\n",
        "import re\n",
        "tokens=re.findall(\"[\\w']+\",text)\n",
        "print(tokens)"
      ]
    },
    {
      "cell_type": "code",
      "execution_count": null,
      "metadata": {
        "id": "axJT-020uOUN"
      },
      "outputs": [],
      "source": [
        "simple_text = \"It, is better for waking up early in morning !!, than working late nights ;\"\n",
        "All_punct = '''!()-[]{};:'\"\\,<>./?@#$%^&*_~'''\n",
        "\n"
      ]
    },
    {
      "cell_type": "code",
      "source": [
        "for elements in simple_text:\n",
        "  if elements in All_punct:\n",
        "    simple_text = simple_text.replace(elements, \"\")\n",
        "print(\"Now let us see the text after removing the punctuations :\", simple_text)"
      ],
      "metadata": {
        "colab": {
          "base_uri": "https://localhost:8080/"
        },
        "id": "rxOl9xbNwUj8",
        "outputId": "42258525-1768-4076-966f-5d663166c05c"
      },
      "execution_count": null,
      "outputs": [
        {
          "output_type": "stream",
          "name": "stdout",
          "text": [
            "Now let us see the text after removing the punctuations : It is better for waking up early in morning  than working late nights \n"
          ]
        }
      ]
    }
  ],
  "metadata": {
    "colab": {
      "provenance": [],
      "authorship_tag": "ABX9TyO3ILt3x/06djMqtF6vs62q",
      "include_colab_link": true
    },
    "kernelspec": {
      "display_name": "Python 3",
      "name": "python3"
    },
    "language_info": {
      "name": "python"
    }
  },
  "nbformat": 4,
  "nbformat_minor": 0
}