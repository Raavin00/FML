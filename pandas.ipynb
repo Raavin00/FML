{
  "nbformat": 4,
  "nbformat_minor": 0,
  "metadata": {
    "colab": {
      "provenance": [],
      "authorship_tag": "ABX9TyOpyqRj19WTEijMNxdy2Nrw",
      "include_colab_link": true
    },
    "kernelspec": {
      "name": "python3",
      "display_name": "Python 3"
    },
    "language_info": {
      "name": "python"
    }
  },
  "cells": [
    {
      "cell_type": "markdown",
      "metadata": {
        "id": "view-in-github",
        "colab_type": "text"
      },
      "source": [
        "<a href=\"https://colab.research.google.com/github/Raavin00/FML/blob/main/pandas.ipynb\" target=\"_parent\"><img src=\"https://colab.research.google.com/assets/colab-badge.svg\" alt=\"Open In Colab\"/></a>"
      ]
    },
    {
      "cell_type": "code",
      "execution_count": null,
      "metadata": {
        "id": "TXZZTjgdKmcc"
      },
      "outputs": [],
      "source": [
        "import pandas as pd\n",
        "import numpy as np\n",
        "\n"
      ]
    },
    {
      "cell_type": "code",
      "source": [
        "# Pandas is a Python library\n",
        "# pandas is used to analyze data\n",
        "/content/Uber Request Data.csv"
      ],
      "metadata": {
        "id": "oOsNVgr1L75j"
      },
      "execution_count": null,
      "outputs": []
    },
    {
      "cell_type": "code",
      "source": [
        "import pandas as pd\n",
        "df = pd.read_csv('/content/Uber Request Data.csv')\n",
        "print(df.to_string())"
      ],
      "metadata": {
        "id": "KXJYKaJDM7Db"
      },
      "execution_count": null,
      "outputs": []
    },
    {
      "cell_type": "code",
      "source": [
        "#Pandas is a python library used for working with datasets\n",
        "#It has functions for analyzing,cleaning,exploring, and manipulating data.\n",
        "\n",
        "# Pandas version\n",
        "print(pd.__version__)"
      ],
      "metadata": {
        "colab": {
          "base_uri": "https://localhost:8080/"
        },
        "id": "6TJk07ezOwZs",
        "outputId": "2d8fca1f-cef4-469f-b50a-f5d9eab52ec9"
      },
      "execution_count": null,
      "outputs": [
        {
          "output_type": "stream",
          "name": "stdout",
          "text": [
            "1.3.5\n"
          ]
        }
      ]
    },
    {
      "cell_type": "code",
      "source": [
        "# A Pandas Series is like a column in a table\n",
        "# It is a One-Dimensional array holding data of any type\n",
        "\n",
        "import pandas as pd\n",
        "import numpy as np\n",
        "a=np.array([1,2,3,4,5,6,7])\n",
        "myvar=pd.Series(a)\n",
        "#print(myvar[0])\n",
        "print(myvar)"
      ],
      "metadata": {
        "colab": {
          "base_uri": "https://localhost:8080/"
        },
        "id": "uxiIwGxLPsu8",
        "outputId": "b9c4104d-00b0-4803-a374-187c0a4e0fcc"
      },
      "execution_count": null,
      "outputs": [
        {
          "output_type": "stream",
          "name": "stdout",
          "text": [
            "1\n",
            "0    1\n",
            "1    2\n",
            "2    3\n",
            "3    4\n",
            "4    5\n",
            "5    6\n",
            "6    7\n",
            "dtype: int64\n"
          ]
        }
      ]
    },
    {
      "cell_type": "code",
      "source": [
        "# Create Labels\n",
        "# with the index argrument ,you can name your own labels\n",
        "a=np.array([1,3,5,7,9])\n",
        "myvar=pd.Series(a,index=[\"x\",\"y\",\"z\",\"w\",\"u\"])\n",
        "print(myvar)\n",
        "\n",
        "# when create labels ,we can access an item by reffering to the label.\n",
        "print(\"Label :\")\n",
        "print(myvar[\"u\"])"
      ],
      "metadata": {
        "colab": {
          "base_uri": "https://localhost:8080/"
        },
        "id": "m2zw4xoXQpEC",
        "outputId": "459ec82b-dc37-4d52-ef90-030855a12815"
      },
      "execution_count": null,
      "outputs": [
        {
          "output_type": "stream",
          "name": "stdout",
          "text": [
            "x    1\n",
            "y    3\n",
            "z    5\n",
            "w    7\n",
            "u    9\n",
            "dtype: int64\n",
            "Label :\n",
            "9\n"
          ]
        }
      ]
    },
    {
      "cell_type": "code",
      "source": [
        "# Key/value Objects as Series\n",
        "# you can also use dictionary ,when creating a series\n",
        "\n",
        "calories={\"day1\": 420,\"day2\":234,\"day\":654}\n",
        "myvar=pd.Series(calories)\n",
        "print(myvar)\n",
        "\n",
        "# you can directly print the calories without storing it in another variable\n",
        "print(\" \")\n",
        "print(pd.Series(calories))"
      ],
      "metadata": {
        "colab": {
          "base_uri": "https://localhost:8080/"
        },
        "id": "9Z2vIiURSf24",
        "outputId": "e091c75c-ea31-49f6-8ba1-a8fb76bb05ab"
      },
      "execution_count": null,
      "outputs": [
        {
          "output_type": "stream",
          "name": "stdout",
          "text": [
            "day1    420\n",
            "day2    234\n",
            "day     654\n",
            "dtype: int64\n",
            " \n",
            "day1    420\n",
            "day2    234\n",
            "day     654\n",
            "dtype: int64\n"
          ]
        }
      ]
    },
    {
      "cell_type": "code",
      "source": [
        "# keys of the dictionary become the labels.\n",
        "#we can also change the labels using index argument\n",
        "calories={\"day1\": 420,\"day2\":234,\"day\":654}\n",
        "myvar=pd.Series(calories,index=[\"day1\",\"day2\"])\n",
        "print(myvar)\n",
        "\n"
      ],
      "metadata": {
        "colab": {
          "base_uri": "https://localhost:8080/"
        },
        "id": "irbXj1EkSHdm",
        "outputId": "857a2411-ff9b-4294-b58e-46e6c6428900"
      },
      "execution_count": null,
      "outputs": [
        {
          "output_type": "stream",
          "name": "stdout",
          "text": [
            "day1    420\n",
            "day2    234\n",
            "dtype: int64\n"
          ]
        }
      ]
    },
    {
      "cell_type": "code",
      "source": [
        "#DataFrames \n",
        "# Data Sets in pandas are usually multi-dimensional tables,called DataFrames\n",
        "# Series is like a column,a DataFrame is the whole table\n",
        "\n",
        "data={\n",
        "    \"calories\" : [420,380,390],\n",
        "    \"duration\" : [50,30,20]\n",
        "}\n",
        "myvar=pd.DataFrame(data)\n",
        "print(myvar)"
      ],
      "metadata": {
        "colab": {
          "base_uri": "https://localhost:8080/"
        },
        "id": "6oVXujQuUwsh",
        "outputId": "fcb6229e-a219-47b0-814c-60f0bfccd863"
      },
      "execution_count": null,
      "outputs": [
        {
          "output_type": "stream",
          "name": "stdout",
          "text": [
            "   calories  duration\n",
            "0       420        50\n",
            "1       380        30\n",
            "2       390        20\n"
          ]
        }
      ]
    },
    {
      "cell_type": "code",
      "source": [],
      "metadata": {
        "id": "CiL9mxjsVrut"
      },
      "execution_count": null,
      "outputs": []
    }
  ]
}